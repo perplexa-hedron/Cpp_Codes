{
 "cells": [
  {
   "cell_type": "code",
   "execution_count": null,
   "metadata": {},
   "outputs": [],
   "source": [
    "print(\"Hello There\")"
   ]
  },
  {
   "cell_type": "code",
   "execution_count": null,
   "metadata": {},
   "outputs": [],
   "source": [
    "sudo apt-get install texlive-xetex texlive-fonts-recommended texlive-plain-generic"
   ]
  },
  {
   "cell_type": "code",
   "execution_count": 1,
   "metadata": {},
   "outputs": [
    {
     "name": "stdout",
     "output_type": "stream",
     "text": [
      "Requirement already satisfied: nbconvert in c:\\users\\piyush sinha\\appdata\\roaming\\python\\python310\\site-packages (7.9.2)\n",
      "Requirement already satisfied: jupyterlab-pygments in c:\\users\\piyush sinha\\appdata\\roaming\\python\\python310\\site-packages (from nbconvert) (0.2.2)\n",
      "Requirement already satisfied: nbclient>=0.5.0 in c:\\users\\piyush sinha\\appdata\\roaming\\python\\python310\\site-packages (from nbconvert) (0.8.0)\n",
      "Requirement already satisfied: beautifulsoup4 in c:\\users\\piyush sinha\\appdata\\roaming\\python\\python310\\site-packages (from nbconvert) (4.12.2)\n",
      "Requirement already satisfied: markupsafe>=2.0 in c:\\users\\piyush sinha\\appdata\\local\\programs\\python\\python310\\lib\\site-packages (from nbconvert) (2.1.1)\n",
      "Requirement already satisfied: nbformat>=5.7 in c:\\users\\piyush sinha\\appdata\\roaming\\python\\python310\\site-packages (from nbconvert) (5.9.2)\n",
      "Requirement already satisfied: bleach!=5.0.0 in c:\\users\\piyush sinha\\appdata\\roaming\\python\\python310\\site-packages (from nbconvert) (6.1.0)\n",
      "Requirement already satisfied: mistune<4,>=2.0.3 in c:\\users\\piyush sinha\\appdata\\roaming\\python\\python310\\site-packages (from nbconvert) (3.0.2)\n",
      "Requirement already satisfied: pandocfilters>=1.4.1 in c:\\users\\piyush sinha\\appdata\\roaming\\python\\python310\\site-packages (from nbconvert) (1.5.0)\n",
      "Requirement already satisfied: defusedxml in c:\\users\\piyush sinha\\appdata\\roaming\\python\\python310\\site-packages (from nbconvert) (0.7.1)\n",
      "Requirement already satisfied: jinja2>=3.0 in c:\\users\\piyush sinha\\appdata\\roaming\\python\\python310\\site-packages (from nbconvert) (3.1.2)\n",
      "Requirement already satisfied: traitlets>=5.1 in c:\\users\\piyush sinha\\appdata\\roaming\\python\\python310\\site-packages (from nbconvert) (5.6.0)\n",
      "Requirement already satisfied: packaging in c:\\users\\piyush sinha\\appdata\\local\\programs\\python\\python310\\lib\\site-packages (from nbconvert) (21.3)\n",
      "Requirement already satisfied: tinycss2 in c:\\users\\piyush sinha\\appdata\\roaming\\python\\python310\\site-packages (from nbconvert) (1.2.1)\n",
      "Requirement already satisfied: pygments>=2.4.1 in c:\\users\\piyush sinha\\appdata\\roaming\\python\\python310\\site-packages (from nbconvert) (2.13.0)\n",
      "Requirement already satisfied: jupyter-core>=4.7 in c:\\users\\piyush sinha\\appdata\\roaming\\python\\python310\\site-packages (from nbconvert) (5.1.0)\n",
      "Requirement already satisfied: six>=1.9.0 in c:\\users\\piyush sinha\\appdata\\local\\programs\\python\\python310\\lib\\site-packages (from bleach!=5.0.0->nbconvert) (1.16.0)\n",
      "Requirement already satisfied: webencodings in c:\\users\\piyush sinha\\appdata\\roaming\\python\\python310\\site-packages (from bleach!=5.0.0->nbconvert) (0.5.1)\n",
      "Requirement already satisfied: pywin32>=1.0 in c:\\users\\piyush sinha\\appdata\\roaming\\python\\python310\\site-packages (from jupyter-core>=4.7->nbconvert) (305)\n",
      "Requirement already satisfied: platformdirs>=2.5 in c:\\users\\piyush sinha\\appdata\\roaming\\python\\python310\\site-packages (from jupyter-core>=4.7->nbconvert) (2.5.4)\n",
      "Requirement already satisfied: jupyter-client>=6.1.12 in c:\\users\\piyush sinha\\appdata\\roaming\\python\\python310\\site-packages (from nbclient>=0.5.0->nbconvert) (7.4.9)\n",
      "Requirement already satisfied: jsonschema>=2.6 in c:\\users\\piyush sinha\\appdata\\roaming\\python\\python310\\site-packages (from nbformat>=5.7->nbconvert) (4.19.1)\n",
      "Requirement already satisfied: fastjsonschema in c:\\users\\piyush sinha\\appdata\\roaming\\python\\python310\\site-packages (from nbformat>=5.7->nbconvert) (2.18.1)\n",
      "Requirement already satisfied: soupsieve>1.2 in c:\\users\\piyush sinha\\appdata\\roaming\\python\\python310\\site-packages (from beautifulsoup4->nbconvert) (2.5)\n",
      "Requirement already satisfied: pyparsing!=3.0.5,>=2.0.2 in c:\\users\\piyush sinha\\appdata\\local\\programs\\python\\python310\\lib\\site-packages (from packaging->nbconvert) (3.0.9)\n",
      "Requirement already satisfied: rpds-py>=0.7.1 in c:\\users\\piyush sinha\\appdata\\roaming\\python\\python310\\site-packages (from jsonschema>=2.6->nbformat>=5.7->nbconvert) (0.10.6)\n",
      "Requirement already satisfied: jsonschema-specifications>=2023.03.6 in c:\\users\\piyush sinha\\appdata\\roaming\\python\\python310\\site-packages (from jsonschema>=2.6->nbformat>=5.7->nbconvert) (2023.7.1)\n",
      "Requirement already satisfied: referencing>=0.28.4 in c:\\users\\piyush sinha\\appdata\\roaming\\python\\python310\\site-packages (from jsonschema>=2.6->nbformat>=5.7->nbconvert) (0.30.2)\n",
      "Requirement already satisfied: attrs>=22.2.0 in c:\\users\\piyush sinha\\appdata\\roaming\\python\\python310\\site-packages (from jsonschema>=2.6->nbformat>=5.7->nbconvert) (23.1.0)\n",
      "Requirement already satisfied: pyzmq>=23.0 in c:\\users\\piyush sinha\\appdata\\roaming\\python\\python310\\site-packages (from jupyter-client>=6.1.12->nbclient>=0.5.0->nbconvert) (24.0.1)\n",
      "Requirement already satisfied: nest-asyncio>=1.5.4 in c:\\users\\piyush sinha\\appdata\\roaming\\python\\python310\\site-packages (from jupyter-client>=6.1.12->nbclient>=0.5.0->nbconvert) (1.5.6)\n",
      "Requirement already satisfied: python-dateutil>=2.8.2 in c:\\users\\piyush sinha\\appdata\\local\\programs\\python\\python310\\lib\\site-packages (from jupyter-client>=6.1.12->nbclient>=0.5.0->nbconvert) (2.8.2)\n",
      "Requirement already satisfied: entrypoints in c:\\users\\piyush sinha\\appdata\\roaming\\python\\python310\\site-packages (from jupyter-client>=6.1.12->nbclient>=0.5.0->nbconvert) (0.4)\n",
      "Requirement already satisfied: tornado>=6.2 in c:\\users\\piyush sinha\\appdata\\roaming\\python\\python310\\site-packages (from jupyter-client>=6.1.12->nbclient>=0.5.0->nbconvert) (6.2)\n",
      "Note: you may need to restart the kernel to use updated packages.\n"
     ]
    },
    {
     "name": "stderr",
     "output_type": "stream",
     "text": [
      "\n",
      "[notice] A new release of pip available: 22.3.1 -> 23.2.1\n",
      "[notice] To update, run: python.exe -m pip install --upgrade pip\n"
     ]
    }
   ],
   "source": [
    "pip install nbconvert"
   ]
  },
  {
   "cell_type": "code",
   "execution_count": 2,
   "metadata": {},
   "outputs": [
    {
     "ename": "SyntaxError",
     "evalue": "invalid syntax. Perhaps you forgot a comma? (842801469.py, line 1)",
     "output_type": "error",
     "traceback": [
      "\u001b[1;36m  Cell \u001b[1;32mIn[2], line 1\u001b[1;36m\u001b[0m\n\u001b[1;33m    python.exe -m pip install --upgrade pip\u001b[0m\n\u001b[1;37m    ^\u001b[0m\n\u001b[1;31mSyntaxError\u001b[0m\u001b[1;31m:\u001b[0m invalid syntax. Perhaps you forgot a comma?\n"
     ]
    }
   ],
   "source": [
    "python.exe -m pip install --upgrade pip"
   ]
  },
  {
   "cell_type": "code",
   "execution_count": 3,
   "metadata": {},
   "outputs": [
    {
     "ename": "SyntaxError",
     "evalue": "invalid syntax. Perhaps you forgot a comma? (2350214200.py, line 1)",
     "output_type": "error",
     "traceback": [
      "\u001b[1;36m  Cell \u001b[1;32mIn[3], line 1\u001b[1;36m\u001b[0m\n\u001b[1;33m    -m pip install --upgrade pip\u001b[0m\n\u001b[1;37m    ^\u001b[0m\n\u001b[1;31mSyntaxError\u001b[0m\u001b[1;31m:\u001b[0m invalid syntax. Perhaps you forgot a comma?\n"
     ]
    }
   ],
   "source": [
    "-m pip install --upgrade pip"
   ]
  },
  {
   "cell_type": "code",
   "execution_count": 4,
   "metadata": {},
   "outputs": [
    {
     "name": "stdout",
     "output_type": "stream",
     "text": [
      "Requirement already satisfied: pip in c:\\users\\piyush sinha\\appdata\\local\\programs\\python\\python310\\lib\\site-packages (22.3.1)\n",
      "Collecting pip\n",
      "  Downloading pip-23.2.1-py3-none-any.whl (2.1 MB)\n",
      "     ---------------------------------------- 2.1/2.1 MB 2.3 MB/s eta 0:00:00\n",
      "Installing collected packages: pip\n",
      "  Attempting uninstall: pip\n",
      "    Found existing installation: pip 22.3.1\n",
      "    Uninstalling pip-22.3.1:\n",
      "      Successfully uninstalled pip-22.3.1\n",
      "Successfully installed pip-23.2.1\n",
      "Note: you may need to restart the kernel to use updated packages.\n"
     ]
    }
   ],
   "source": [
    "pip install --upgrade pip"
   ]
  },
  {
   "cell_type": "code",
   "execution_count": null,
   "metadata": {},
   "outputs": [],
   "source": []
  }
 ],
 "metadata": {
  "kernelspec": {
   "display_name": "Python 3",
   "language": "python",
   "name": "python3"
  },
  "language_info": {
   "codemirror_mode": {
    "name": "ipython",
    "version": 3
   },
   "file_extension": ".py",
   "mimetype": "text/x-python",
   "name": "python",
   "nbconvert_exporter": "python",
   "pygments_lexer": "ipython3",
   "version": "3.10.0"
  }
 },
 "nbformat": 4,
 "nbformat_minor": 2
}
